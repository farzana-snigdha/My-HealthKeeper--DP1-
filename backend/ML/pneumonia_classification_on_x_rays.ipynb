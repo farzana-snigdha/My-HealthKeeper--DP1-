{
  "nbformat": 4,
  "nbformat_minor": 0,
  "metadata": {
    "kernelspec": {
      "language": "python",
      "display_name": "Python 3",
      "name": "python3"
    },
    "language_info": {
      "name": "python",
      "version": "3.7.6",
      "mimetype": "text/x-python",
      "codemirror_mode": {
        "name": "ipython",
        "version": 3
      },
      "pygments_lexer": "ipython3",
      "nbconvert_exporter": "python",
      "file_extension": ".py"
    },
    "colab": {
      "provenance": []
    }
  },
  "cells": [
    {
      "cell_type": "code",
      "metadata": {
        "execution": {
          "iopub.status.busy": "2021-10-15T04:39:45.906419Z",
          "iopub.execute_input": "2021-10-15T04:39:45.906778Z",
          "iopub.status.idle": "2021-10-15T04:40:12.884252Z",
          "shell.execute_reply.started": "2021-10-15T04:39:45.906744Z",
          "shell.execute_reply": "2021-10-15T04:40:12.883098Z"
        },
        "trusted": true,
        "id": "-_TSQ_sSQsXq"
      },
      "source": [
        "pip install pyyaml h5py  # Required to save models in HDF5 format"
      ],
      "execution_count": null,
      "outputs": []
    },
    {
      "cell_type": "code",
      "metadata": {
        "_uuid": "8f2839f25d086af736a60e9eeb907d3b93b6e0e5",
        "_cell_guid": "b1076dfc-b9ad-4769-8c92-a6c4dae69d19",
        "execution": {
          "iopub.status.busy": "2021-10-15T04:37:41.622339Z",
          "iopub.execute_input": "2021-10-15T04:37:41.622749Z",
          "iopub.status.idle": "2021-10-15T04:37:48.236279Z",
          "shell.execute_reply.started": "2021-10-15T04:37:41.622716Z",
          "shell.execute_reply": "2021-10-15T04:37:48.23514Z"
        },
        "trusted": true,
        "id": "vmcQBiGVQsXs"
      },
      "source": [
        "import re\n",
        "import os\n",
        "import numpy as np\n",
        "import pandas as pd\n",
        "import tensorflow as tf\n",
        "from kaggle_datasets import KaggleDatasets\n",
        "import matplotlib.pyplot as plt\n",
        "from sklearn.model_selection import train_test_split\n",
        "\n",
        "try:\n",
        "    tpu = tf.distribute.cluster_resolver.TPUClusterResolver()\n",
        "    print('Device:', tpu.master())\n",
        "    tf.config.experimental_connect_to_cluster(tpu)\n",
        "    tf.tpu.experimental.initialize_tpu_system(tpu)\n",
        "    strategy = tf.distribute.experimental.TPUStrategy(tpu)\n",
        "except:\n",
        "    strategy = tf.distribute.get_strategy()\n",
        "print('Number of replicas:', strategy.num_replicas_in_sync)\n",
        "\n",
        "print(tf.__version__)\n"
      ],
      "execution_count": null,
      "outputs": []
    },
    {
      "cell_type": "code",
      "metadata": {
        "trusted": true,
        "id": "F0U8YM5kQsXt"
      },
      "source": [
        "gdown --id\n",
        "!unzip -q /content/archive.zip"
      ],
      "execution_count": null,
      "outputs": []
    },
    {
      "cell_type": "code",
      "metadata": {
        "id": "5fRNGhVbQsXu"
      },
      "source": [],
      "execution_count": null,
      "outputs": []
    },
    {
      "cell_type": "code",
      "metadata": {
        "execution": {
          "iopub.status.busy": "2021-10-15T04:37:55.75744Z",
          "iopub.execute_input": "2021-10-15T04:37:55.757833Z",
          "iopub.status.idle": "2021-10-15T04:37:55.764722Z",
          "shell.execute_reply.started": "2021-10-15T04:37:55.7578Z",
          "shell.execute_reply": "2021-10-15T04:37:55.76311Z"
        },
        "trusted": true,
        "id": "ezAjgPMfQsXv"
      },
      "source": [
        "AUTOTUNE = tf.data.experimental.AUTOTUNE\n",
        "GCS_PATH = '/content'\n",
        "BATCH_SIZE = 16 * strategy.num_replicas_in_sync\n",
        "IMAGE_SIZE = [180, 180]\n",
        "EPOCHS = 25"
      ],
      "execution_count": null,
      "outputs": []
    },
    {
      "cell_type": "markdown",
      "metadata": {
        "id": "EmhPrygzQsXx"
      },
      "source": [
        "# 2. Load the data\n",
        "\n",
        "The Chest X-ray data we are using divides the data into train, val, and test files. There are only 16 files in the validation folder, and we would prefer to have a less extreme division between the training and the validation set. We will append the validation files and create a new split that resembes the standard 80:20 division instead."
      ]
    },
    {
      "cell_type": "code",
      "metadata": {
        "trusted": true,
        "id": "KNZ1rNrYQsXy"
      },
      "source": [
        "filenames = tf.io.gfile.glob(str(GCS_PATH + '/chest_xray/train/*/*'))\n",
        "filenames.extend(tf.io.gfile.glob(str(GCS_PATH + '/chest_xray/val/*/*')))\n",
        "\n",
        "train_filenames, val_filenames = train_test_split(filenames, test_size=0.2)"
      ],
      "execution_count": null,
      "outputs": []
    },
    {
      "cell_type": "markdown",
      "metadata": {
        "id": "T5MNIbbVQsXz"
      },
      "source": [
        "Checking how many healthy/normal chest X-rays we have and how many pneumonia chest X-rays we have."
      ]
    },
    {
      "cell_type": "code",
      "metadata": {
        "execution": {
          "iopub.status.busy": "2021-10-15T04:27:53.864303Z",
          "iopub.status.idle": "2021-10-15T04:27:53.864748Z"
        },
        "trusted": true,
        "id": "qanr2jILQsXz"
      },
      "source": [
        "COUNT_NORMAL = len([filename for filename in train_filenames if \"NORMAL\" in filename])\n",
        "print(\"Normal images count in training set: \" + str(COUNT_NORMAL))\n",
        "\n",
        "COUNT_PNEUMONIA = len([filename for filename in train_filenames if \"PNEUMONIA\" in filename])\n",
        "print(\"Pneumonia images count in training set: \" + str(COUNT_PNEUMONIA))"
      ],
      "execution_count": null,
      "outputs": []
    },
    {
      "cell_type": "code",
      "metadata": {
        "execution": {
          "iopub.status.busy": "2021-10-15T04:27:53.865766Z",
          "iopub.status.idle": "2021-10-15T04:27:53.8662Z"
        },
        "trusted": true,
        "id": "2xRU-BB0QsX1"
      },
      "source": [
        "train_list_ds = tf.data.Dataset.from_tensor_slices(train_filenames)\n",
        "val_list_ds = tf.data.Dataset.from_tensor_slices(val_filenames)\n",
        "\n",
        "for f in train_list_ds.take(5):\n",
        "    print(f.numpy())"
      ],
      "execution_count": null,
      "outputs": []
    },
    {
      "cell_type": "code",
      "metadata": {
        "execution": {
          "iopub.status.busy": "2021-10-15T04:27:53.867173Z",
          "iopub.status.idle": "2021-10-15T04:27:53.8676Z"
        },
        "trusted": true,
        "id": "NlKOoAQRQsX2"
      },
      "source": [
        "TRAIN_IMG_COUNT = tf.data.experimental.cardinality(train_list_ds).numpy()\n",
        "print(\"Training images count: \" + str(TRAIN_IMG_COUNT))\n",
        "\n",
        "VAL_IMG_COUNT = tf.data.experimental.cardinality(val_list_ds).numpy()\n",
        "print(\"Validating images count: \" + str(VAL_IMG_COUNT))"
      ],
      "execution_count": null,
      "outputs": []
    },
    {
      "cell_type": "code",
      "metadata": {
        "execution": {
          "iopub.status.busy": "2021-10-15T04:27:53.868736Z",
          "iopub.status.idle": "2021-10-15T04:27:53.86921Z"
        },
        "trusted": true,
        "id": "Ynk1_JD3QsX3"
      },
      "source": [
        "CLASS_NAMES = np.array([str(tf.strings.split(item, os.path.sep)[-1].numpy())[2:-1]\n",
        "                        for item in tf.io.gfile.glob(str(GCS_PATH + \"/chest_xray/train/*\"))])\n",
        "CLASS_NAMES"
      ],
      "execution_count": null,
      "outputs": []
    },
    {
      "cell_type": "markdown",
      "metadata": {
        "id": "aPC5tfgyQsX3"
      },
      "source": [
        "Currently our dataset is just a list of filenames. We want to map each filename to the corresponding (image, label) pair.\n",
        "Here we rewrite the label so that `1` or `True` indicates pneumonia and `0` or `False` indicates normal."
      ]
    },
    {
      "cell_type": "code",
      "metadata": {
        "execution": {
          "iopub.status.busy": "2021-10-15T04:27:53.870095Z",
          "iopub.status.idle": "2021-10-15T04:27:53.870511Z"
        },
        "trusted": true,
        "id": "JLvSNqS5QsX3"
      },
      "source": [
        "def get_label(file_path):\n",
        "    # convert the path to a list of path components\n",
        "    parts = tf.strings.split(file_path, os.path.sep)\n",
        "    # The second to last is the class-directory\n",
        "    return parts[-2] == \"PNEUMONIA\""
      ],
      "execution_count": null,
      "outputs": []
    },
    {
      "cell_type": "markdown",
      "metadata": {
        "id": "4QvxLpaJQsX4"
      },
      "source": [
        "The images originally have values that range from [0, 255]. CNNs work better with smaller numbers so we will scale this down."
      ]
    },
    {
      "cell_type": "code",
      "metadata": {
        "execution": {
          "iopub.status.busy": "2021-10-15T04:27:53.87131Z",
          "iopub.status.idle": "2021-10-15T04:27:53.871755Z"
        },
        "trusted": true,
        "id": "7rzDUXjqQsX4"
      },
      "source": [
        "def decode_img(img):\n",
        "  # convert the compressed string to a 3D uint8 tensor\n",
        "  img = tf.image.decode_jpeg(img, channels=3)\n",
        "  # Use `convert_image_dtype` to convert to floats in the [0,1] range.\n",
        "  img = tf.image.convert_image_dtype(img, tf.float32)\n",
        "  # resize the image to the desired size.\n",
        "  return tf.image.resize(img, IMAGE_SIZE)"
      ],
      "execution_count": null,
      "outputs": []
    },
    {
      "cell_type": "code",
      "metadata": {
        "execution": {
          "iopub.status.busy": "2021-10-15T04:27:53.872872Z",
          "iopub.status.idle": "2021-10-15T04:27:53.873302Z"
        },
        "trusted": true,
        "id": "uihL4L1oQsX4"
      },
      "source": [
        "def process_path(file_path):\n",
        "    label = get_label(file_path)\n",
        "    # load the raw data from the file as a string\n",
        "    img = tf.io.read_file(file_path)\n",
        "    img = decode_img(img)\n",
        "    return img, label"
      ],
      "execution_count": null,
      "outputs": []
    },
    {
      "cell_type": "code",
      "metadata": {
        "execution": {
          "iopub.status.busy": "2021-10-15T04:27:53.874134Z",
          "iopub.status.idle": "2021-10-15T04:27:53.874562Z"
        },
        "trusted": true,
        "id": "ubmtoMqxQsX5"
      },
      "source": [
        "train_ds = train_list_ds.map(process_path, num_parallel_calls=AUTOTUNE)\n",
        "\n",
        "val_ds = val_list_ds.map(process_path, num_parallel_calls=AUTOTUNE)"
      ],
      "execution_count": null,
      "outputs": []
    },
    {
      "cell_type": "markdown",
      "metadata": {
        "id": "YsIc3dPhQsX5"
      },
      "source": [
        "Visualizing the shape of an (image, label) pair."
      ]
    },
    {
      "cell_type": "code",
      "metadata": {
        "execution": {
          "iopub.status.busy": "2021-10-15T04:27:53.875496Z",
          "iopub.status.idle": "2021-10-15T04:27:53.875997Z"
        },
        "trusted": true,
        "id": "a7HaicprQsX5"
      },
      "source": [
        "for image, label in train_ds.take(1):\n",
        "    print(\"Image shape: \", image.numpy().shape)\n",
        "    print(\"Label: \", label.numpy())"
      ],
      "execution_count": null,
      "outputs": []
    },
    {
      "cell_type": "markdown",
      "metadata": {
        "id": "8dWVfZjMQsX6"
      },
      "source": [
        "Load and format the test data as well."
      ]
    },
    {
      "cell_type": "code",
      "metadata": {
        "execution": {
          "iopub.status.busy": "2021-10-15T04:27:53.876961Z",
          "iopub.status.idle": "2021-10-15T04:27:53.877431Z"
        },
        "trusted": true,
        "id": "Ym4P0YT4QsX6"
      },
      "source": [
        "test_list_ds = tf.data.Dataset.list_files(str(GCS_PATH + '/chest_xray/test/*/*'))\n",
        "TEST_IMAGE_COUNT = tf.data.experimental.cardinality(test_list_ds).numpy()\n",
        "test_ds = test_list_ds.map(process_path, num_parallel_calls=AUTOTUNE)\n",
        "test_ds = test_ds.batch(BATCH_SIZE)\n",
        "\n",
        "TEST_IMAGE_COUNT"
      ],
      "execution_count": null,
      "outputs": []
    },
    {
      "cell_type": "markdown",
      "metadata": {
        "id": "AgOGMkckQsX6"
      },
      "source": [
        "# 3. Visualize the dataset"
      ]
    },
    {
      "cell_type": "code",
      "metadata": {
        "execution": {
          "iopub.status.busy": "2021-10-15T04:27:53.878583Z",
          "iopub.status.idle": "2021-10-15T04:27:53.879063Z"
        },
        "trusted": true,
        "id": "UW3LlMBAQsX6"
      },
      "source": [
        "def prepare_for_training(ds, cache=True, shuffle_buffer_size=1000):\n",
        "    # This is a small dataset, only load it once, and keep it in memory.\n",
        "    # use `.cache(filename)` to cache preprocessing work for datasets that don't\n",
        "    # fit in memory.\n",
        "    if cache:\n",
        "        if isinstance(cache, str):\n",
        "            ds = ds.cache(cache)\n",
        "        else:\n",
        "            ds = ds.cache()\n",
        "\n",
        "    ds = ds.shuffle(buffer_size=shuffle_buffer_size)\n",
        "\n",
        "    # Repeat forever\n",
        "    ds = ds.repeat()\n",
        "\n",
        "    ds = ds.batch(BATCH_SIZE)\n",
        "\n",
        "    # `prefetch` lets the dataset fetch batches in the background while the model\n",
        "    # is training.\n",
        "    ds = ds.prefetch(buffer_size=AUTOTUNE)\n",
        "\n",
        "    return ds"
      ],
      "execution_count": null,
      "outputs": []
    },
    {
      "cell_type": "code",
      "metadata": {
        "execution": {
          "iopub.status.busy": "2021-10-15T04:27:53.879991Z",
          "iopub.status.idle": "2021-10-15T04:27:53.88045Z"
        },
        "trusted": true,
        "id": "Zx_Jagq0QsX7"
      },
      "source": [
        "train_ds = prepare_for_training(train_ds)\n",
        "val_ds = prepare_for_training(val_ds)\n",
        "\n",
        "image_batch, label_batch = next(iter(train_ds))"
      ],
      "execution_count": null,
      "outputs": []
    },
    {
      "cell_type": "code",
      "metadata": {
        "execution": {
          "iopub.status.busy": "2021-10-15T04:27:53.881486Z",
          "iopub.status.idle": "2021-10-15T04:27:53.881955Z"
        },
        "trusted": true,
        "id": "Mx9dUwyzQsX7"
      },
      "source": [
        "train_ds[0]"
      ],
      "execution_count": null,
      "outputs": []
    },
    {
      "cell_type": "code",
      "metadata": {
        "execution": {
          "iopub.status.busy": "2021-10-15T04:27:53.882884Z",
          "iopub.status.idle": "2021-10-15T04:27:53.883345Z"
        },
        "trusted": true,
        "id": "Eg_18iAXQsX7"
      },
      "source": [
        "def show_batch(image_batch, label_batch):\n",
        "    plt.figure(figsize=(10,10))\n",
        "    for n in range(25):\n",
        "        ax = plt.subplot(5,5,n+1)\n",
        "        plt.imshow(image_batch[n])\n",
        "        if label_batch[n]:\n",
        "            plt.title(\"PNEUMONIA\")\n",
        "        else:\n",
        "            plt.title(\"NORMAL\")\n",
        "        plt.axis(\"off\")"
      ],
      "execution_count": null,
      "outputs": []
    },
    {
      "cell_type": "markdown",
      "metadata": {
        "id": "vX9Aroj-QsX8"
      },
      "source": [
        "As the method takes in numpy arrays as its parameters, call the numpy function on the batches to return the tensor in numpy array form."
      ]
    },
    {
      "cell_type": "code",
      "metadata": {
        "execution": {
          "iopub.status.busy": "2021-10-15T04:27:53.884328Z",
          "iopub.status.idle": "2021-10-15T04:27:53.884818Z"
        },
        "trusted": true,
        "id": "_p7H64ZBQsX8"
      },
      "source": [
        "show_batch(image_batch.numpy(), label_batch.numpy())"
      ],
      "execution_count": null,
      "outputs": []
    },
    {
      "cell_type": "markdown",
      "metadata": {
        "id": "P4s36VLuQsX8"
      },
      "source": [
        "# 4. Build the CNN\n"
      ]
    },
    {
      "cell_type": "code",
      "metadata": {
        "execution": {
          "iopub.status.busy": "2021-10-15T04:27:53.886123Z",
          "iopub.status.idle": "2021-10-15T04:27:53.886632Z"
        },
        "trusted": true,
        "id": "D88eXIW_QsX8"
      },
      "source": [
        "def conv_block(filters):\n",
        "    block = tf.keras.Sequential([\n",
        "        tf.keras.layers.SeparableConv2D(filters, 3, activation='relu', padding='same'),\n",
        "        tf.keras.layers.SeparableConv2D(filters, 3, activation='relu', padding='same'),\n",
        "        tf.keras.layers.BatchNormalization(),\n",
        "        tf.keras.layers.MaxPool2D()\n",
        "    ]\n",
        "    )\n",
        "\n",
        "    return block"
      ],
      "execution_count": null,
      "outputs": []
    },
    {
      "cell_type": "code",
      "metadata": {
        "execution": {
          "iopub.status.busy": "2021-10-15T04:27:53.887715Z",
          "iopub.status.idle": "2021-10-15T04:27:53.888199Z"
        },
        "trusted": true,
        "id": "qP9h8L_nQsX9"
      },
      "source": [
        "def dense_block(units, dropout_rate):\n",
        "    block = tf.keras.Sequential([\n",
        "        tf.keras.layers.Dense(units, activation='relu'),\n",
        "        tf.keras.layers.BatchNormalization(),\n",
        "        tf.keras.layers.Dropout(dropout_rate)\n",
        "    ])\n",
        "\n",
        "    return block"
      ],
      "execution_count": null,
      "outputs": []
    },
    {
      "cell_type": "code",
      "metadata": {
        "execution": {
          "iopub.status.busy": "2021-10-15T04:27:53.889137Z",
          "iopub.status.idle": "2021-10-15T04:27:53.889601Z"
        },
        "trusted": true,
        "id": "aFCe5YXFQsX9"
      },
      "source": [
        "def build_model():\n",
        "    model = tf.keras.Sequential([\n",
        "        tf.keras.Input(shape=(IMAGE_SIZE[0], IMAGE_SIZE[1], 3)),\n",
        "\n",
        "        tf.keras.layers.Conv2D(16, 3, activation='relu', padding='same'),\n",
        "        tf.keras.layers.Conv2D(16, 3, activation='relu', padding='same'),\n",
        "        tf.keras.layers.MaxPool2D(),\n",
        "\n",
        "        conv_block(32),\n",
        "        conv_block(64),\n",
        "\n",
        "        conv_block(128),\n",
        "        tf.keras.layers.Dropout(0.2),\n",
        "\n",
        "        conv_block(256),\n",
        "        tf.keras.layers.Dropout(0.2),\n",
        "\n",
        "        tf.keras.layers.Flatten(),\n",
        "        dense_block(512, 0.7),\n",
        "        dense_block(128, 0.5),\n",
        "        dense_block(64, 0.3),\n",
        "\n",
        "        tf.keras.layers.Dense(1, activation='sigmoid')\n",
        "    ])\n",
        "\n",
        "    return model"
      ],
      "execution_count": null,
      "outputs": []
    },
    {
      "cell_type": "markdown",
      "metadata": {
        "id": "fC7x1WcjQsX9"
      },
      "source": [
        "# 5. Correction for data imbalance\n"
      ]
    },
    {
      "cell_type": "code",
      "metadata": {
        "execution": {
          "iopub.status.busy": "2021-10-15T04:27:53.890528Z",
          "iopub.status.idle": "2021-10-15T04:27:53.890997Z"
        },
        "trusted": true,
        "id": "5b0imci3QsX9"
      },
      "source": [
        "initial_bias = np.log([COUNT_PNEUMONIA/COUNT_NORMAL])\n",
        "initial_bias"
      ],
      "execution_count": null,
      "outputs": []
    },
    {
      "cell_type": "code",
      "metadata": {
        "execution": {
          "iopub.status.busy": "2021-10-15T04:27:53.891978Z",
          "iopub.status.idle": "2021-10-15T04:27:53.892508Z"
        },
        "trusted": true,
        "id": "J-k1ukpSQsX-"
      },
      "source": [
        "weight_for_0 = (1 / COUNT_NORMAL)*(TRAIN_IMG_COUNT)/2.0\n",
        "weight_for_1 = (1 / COUNT_PNEUMONIA)*(TRAIN_IMG_COUNT)/2.0\n",
        "\n",
        "class_weight = {0: weight_for_0, 1: weight_for_1}\n",
        "\n",
        "print('Weight for class 0: {:.2f}'.format(weight_for_0))\n",
        "print('Weight for class 1: {:.2f}'.format(weight_for_1))"
      ],
      "execution_count": null,
      "outputs": []
    },
    {
      "cell_type": "markdown",
      "metadata": {
        "id": "1--1LpelQsX-"
      },
      "source": [
        "# 6. Train the model"
      ]
    },
    {
      "cell_type": "code",
      "metadata": {
        "execution": {
          "iopub.status.busy": "2021-10-15T04:27:53.893592Z",
          "iopub.status.idle": "2021-10-15T04:27:53.894109Z"
        },
        "trusted": true,
        "id": "2ifxdPr2QsX_"
      },
      "source": [
        "with strategy.scope():\n",
        "    model = build_model()\n",
        "\n",
        "    METRICS = [\n",
        "        'accuracy',\n",
        "        tf.keras.metrics.Precision(name='precision'),\n",
        "        tf.keras.metrics.Recall(name='recall')\n",
        "    ]\n",
        "\n",
        "    model.compile(\n",
        "        optimizer='adam',\n",
        "        loss='binary_crossentropy',\n",
        "        metrics=METRICS\n",
        "    )"
      ],
      "execution_count": null,
      "outputs": []
    },
    {
      "cell_type": "code",
      "metadata": {
        "execution": {
          "iopub.status.busy": "2021-10-15T04:27:53.895062Z",
          "iopub.status.idle": "2021-10-15T04:27:53.89553Z"
        },
        "trusted": true,
        "id": "goy1zFtXQsX_"
      },
      "source": [
        "model"
      ],
      "execution_count": null,
      "outputs": []
    },
    {
      "cell_type": "code",
      "metadata": {
        "execution": {
          "iopub.status.busy": "2021-10-15T04:27:53.896514Z",
          "iopub.status.idle": "2021-10-15T04:27:53.896994Z"
        },
        "trusted": true,
        "id": "vUqf1Yb0QsX_"
      },
      "source": [
        "history = model.fit(\n",
        "    train_ds,\n",
        "    steps_per_epoch=TRAIN_IMG_COUNT // BATCH_SIZE,\n",
        "    epochs=EPOCHS,\n",
        "    validation_data=val_ds,\n",
        "    validation_steps=VAL_IMG_COUNT // BATCH_SIZE,\n",
        "    class_weight=class_weight,\n",
        ")"
      ],
      "execution_count": null,
      "outputs": []
    },
    {
      "cell_type": "markdown",
      "metadata": {
        "id": "z7h0tM-EQsX_"
      },
      "source": [
        "# 7. Finetune the model"
      ]
    },
    {
      "cell_type": "code",
      "metadata": {
        "trusted": true,
        "id": "dXLJWeCMQsYA"
      },
      "source": [],
      "execution_count": null,
      "outputs": []
    },
    {
      "cell_type": "code",
      "metadata": {
        "execution": {
          "iopub.status.busy": "2021-10-15T04:27:53.897978Z",
          "iopub.status.idle": "2021-10-15T04:27:53.898437Z"
        },
        "trusted": true,
        "id": "uEULekhEQsYA"
      },
      "source": [
        "checkpoint_cb = tf.keras.callbacks.ModelCheckpoint(\"xray_model.h5\",\n",
        "                                                    save_best_only=True)\n",
        "\n",
        "early_stopping_cb = tf.keras.callbacks.EarlyStopping(patience=10,\n",
        "                                                     restore_best_weights=True)"
      ],
      "execution_count": null,
      "outputs": []
    },
    {
      "cell_type": "code",
      "metadata": {
        "execution": {
          "iopub.status.busy": "2021-10-15T04:27:53.899426Z",
          "iopub.status.idle": "2021-10-15T04:27:53.89993Z"
        },
        "trusted": true,
        "id": "Tzy5SIbyQsYA"
      },
      "source": [
        "def exponential_decay(lr0, s):\n",
        "    def exponential_decay_fn(epoch):\n",
        "        return lr0 * 0.1 **(epoch / s)\n",
        "    return exponential_decay_fn\n",
        "\n",
        "exponential_decay_fn = exponential_decay(0.01, 20)\n",
        "\n",
        "lr_scheduler = tf.keras.callbacks.LearningRateScheduler(exponential_decay_fn)"
      ],
      "execution_count": null,
      "outputs": []
    },
    {
      "cell_type": "code",
      "metadata": {
        "execution": {
          "iopub.status.busy": "2021-10-15T04:27:53.901058Z",
          "iopub.status.idle": "2021-10-15T04:27:53.90173Z"
        },
        "trusted": true,
        "id": "SVXioKW1QsYA"
      },
      "source": [
        "history = model.fit(\n",
        "    train_ds,\n",
        "    steps_per_epoch=TRAIN_IMG_COUNT // BATCH_SIZE,\n",
        "    epochs=100,\n",
        "    validation_data=val_ds,\n",
        "    validation_steps=VAL_IMG_COUNT // BATCH_SIZE,\n",
        "    class_weight=class_weight,\n",
        "    callbacks=[checkpoint_cb, early_stopping_cb, lr_scheduler]\n",
        ")"
      ],
      "execution_count": null,
      "outputs": []
    },
    {
      "cell_type": "markdown",
      "metadata": {
        "id": "XtoyRA7sQsYA"
      },
      "source": [
        "# 8. Visualizing model performance"
      ]
    },
    {
      "cell_type": "code",
      "metadata": {
        "trusted": true,
        "id": "LEqp3es0QsYB"
      },
      "source": [],
      "execution_count": null,
      "outputs": []
    },
    {
      "cell_type": "code",
      "metadata": {
        "execution": {
          "iopub.status.busy": "2021-10-15T04:27:53.902781Z",
          "iopub.status.idle": "2021-10-15T04:27:53.903248Z"
        },
        "trusted": true,
        "id": "CQ8hzeNqQsYB"
      },
      "source": [
        "fig, ax = plt.subplots(1, 4, figsize=(20, 3))\n",
        "ax = ax.ravel()\n",
        "\n",
        "for i, met in enumerate(['precision', 'recall', 'accuracy', 'loss']):\n",
        "    ax[i].plot(history.history[met])\n",
        "    ax[i].plot(history.history['val_' + met])\n",
        "    ax[i].set_title('Model {}'.format(met))\n",
        "    ax[i].set_xlabel('epochs')\n",
        "    ax[i].set_ylabel(met)\n",
        "    ax[i].legend(['train', 'val'])"
      ],
      "execution_count": null,
      "outputs": []
    },
    {
      "cell_type": "markdown",
      "metadata": {
        "id": "qfp1g4eaQsYB"
      },
      "source": [
        "# 9. Predict and evaluate results"
      ]
    },
    {
      "cell_type": "code",
      "metadata": {
        "execution": {
          "iopub.status.busy": "2021-10-15T04:27:53.904451Z",
          "iopub.status.idle": "2021-10-15T04:27:53.904942Z"
        },
        "trusted": true,
        "id": "fMWQeu3XQsYB"
      },
      "source": [
        "loss, acc, prec, rec = model.evaluate(test_ds)"
      ],
      "execution_count": null,
      "outputs": []
    },
    {
      "cell_type": "code",
      "metadata": {
        "execution": {
          "iopub.status.busy": "2021-10-15T04:27:53.906059Z",
          "iopub.status.idle": "2021-10-15T04:27:53.906528Z"
        },
        "trusted": true,
        "id": "yJb5_73pQsYC"
      },
      "source": [
        "print(image_batch[0])"
      ],
      "execution_count": null,
      "outputs": []
    },
    {
      "cell_type": "code",
      "metadata": {
        "execution": {
          "iopub.status.busy": "2021-10-15T04:27:53.90744Z",
          "iopub.status.idle": "2021-10-15T04:27:53.908016Z"
        },
        "trusted": true,
        "id": "VvW5aMpPQsYC"
      },
      "source": [
        "new_model = tf.keras.models.load_model('./xray_model.h5')\n",
        "\n",
        "# Check its architecture\n",
        "new_model.summary()"
      ],
      "execution_count": null,
      "outputs": []
    },
    {
      "cell_type": "code",
      "metadata": {
        "execution": {
          "iopub.status.busy": "2021-10-15T04:27:53.90904Z",
          "iopub.status.idle": "2021-10-15T04:27:53.90951Z"
        },
        "trusted": true,
        "id": "_NeYu0OcQsYC"
      },
      "source": [
        "new_model.predict(train_ds)\n"
      ],
      "execution_count": null,
      "outputs": []
    },
    {
      "cell_type": "code",
      "metadata": {
        "execution": {
          "iopub.status.busy": "2021-10-15T04:27:53.910605Z",
          "iopub.status.idle": "2021-10-15T04:27:53.911076Z"
        },
        "trusted": true,
        "id": "wm32cCNtQsYC"
      },
      "source": [
        "from matplotlib import image"
      ],
      "execution_count": null,
      "outputs": []
    },
    {
      "cell_type": "code",
      "metadata": {
        "execution": {
          "iopub.status.busy": "2021-10-15T04:27:53.912069Z",
          "iopub.status.idle": "2021-10-15T04:27:53.912543Z"
        },
        "trusted": true,
        "id": "m-jBQg4LQsYC"
      },
      "source": [
        "load_image = image.imread('../input/chest-xray-pneumonia/chest_xray/test/PNEUMONIA/person100_bacteria_475.jpeg')"
      ],
      "execution_count": null,
      "outputs": []
    },
    {
      "cell_type": "code",
      "metadata": {
        "execution": {
          "iopub.status.busy": "2021-10-15T04:27:53.91352Z",
          "iopub.status.idle": "2021-10-15T04:27:53.913993Z"
        },
        "trusted": true,
        "id": "wKC_CascQsYC"
      },
      "source": [
        "load_image.shape"
      ],
      "execution_count": null,
      "outputs": []
    },
    {
      "cell_type": "code",
      "metadata": {
        "execution": {
          "iopub.status.busy": "2021-10-15T04:27:53.914985Z",
          "iopub.status.idle": "2021-10-15T04:27:53.915434Z"
        },
        "trusted": true,
        "id": "OKcKavzBQsYD"
      },
      "source": [
        "new_model.predict(load_image)"
      ],
      "execution_count": null,
      "outputs": []
    },
    {
      "cell_type": "code",
      "metadata": {
        "execution": {
          "iopub.status.busy": "2021-10-15T04:27:53.916374Z",
          "iopub.status.idle": "2021-10-15T04:27:53.916863Z"
        },
        "trusted": true,
        "id": "lU6ypZWhQsYD"
      },
      "source": [
        "load_image.shape"
      ],
      "execution_count": null,
      "outputs": []
    },
    {
      "cell_type": "code",
      "metadata": {
        "execution": {
          "iopub.status.busy": "2021-10-15T04:27:53.917771Z",
          "iopub.status.idle": "2021-10-15T04:27:53.91822Z"
        },
        "trusted": true,
        "id": "CauwIkPAQsYD"
      },
      "source": [
        "new = load_image.reshape(1,load_image.shape[0], load_image.shape[1],3)"
      ],
      "execution_count": null,
      "outputs": []
    },
    {
      "cell_type": "code",
      "metadata": {
        "execution": {
          "iopub.status.busy": "2021-10-15T04:27:53.9193Z",
          "iopub.status.idle": "2021-10-15T04:27:53.919794Z"
        },
        "trusted": true,
        "id": "u_Tm0JLHQsYD"
      },
      "source": [
        "new.shape"
      ],
      "execution_count": null,
      "outputs": []
    },
    {
      "cell_type": "code",
      "metadata": {
        "execution": {
          "iopub.status.busy": "2021-10-15T04:27:53.920803Z",
          "iopub.status.idle": "2021-10-15T04:27:53.921278Z"
        },
        "trusted": true,
        "id": "lPwAUeLbQsYD"
      },
      "source": [
        "new_model.predict(new)"
      ],
      "execution_count": null,
      "outputs": []
    },
    {
      "cell_type": "code",
      "metadata": {
        "id": "55dZC_pTQsYD"
      },
      "source": [],
      "execution_count": null,
      "outputs": []
    }
  ]
}